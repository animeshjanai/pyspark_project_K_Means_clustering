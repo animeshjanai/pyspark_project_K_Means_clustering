{
  "nbformat": 4,
  "nbformat_minor": 0,
  "metadata": {
    "colab": {
      "provenance": [],
      "authorship_tag": "ABX9TyOi5RGgiQp5f2QTfyrklQEV",
      "include_colab_link": true
    },
    "kernelspec": {
      "name": "python3",
      "display_name": "Python 3"
    },
    "language_info": {
      "name": "python"
    }
  },
  "cells": [
    {
      "cell_type": "markdown",
      "metadata": {
        "id": "view-in-github",
        "colab_type": "text"
      },
      "source": [
        "<a href=\"https://colab.research.google.com/github/animeshjanai/pyspark_project_K_Means_clustering/blob/main/pyspark_unsupervised_ML_project.ipynb\" target=\"_parent\"><img src=\"https://colab.research.google.com/assets/colab-badge.svg\" alt=\"Open In Colab\"/></a>"
      ]
    },
    {
      "cell_type": "code",
      "source": [
        "from google.colab import drive\n",
        "drive.mount('/content/drive')"
      ],
      "metadata": {
        "colab": {
          "base_uri": "https://localhost:8080/"
        },
        "id": "BTmhtvpoo8Rw",
        "outputId": "8f3ceabc-1525-4f12-cea8-e62802475f03"
      },
      "execution_count": null,
      "outputs": [
        {
          "output_type": "stream",
          "name": "stdout",
          "text": [
            "Mounted at /content/drive\n"
          ]
        }
      ]
    },
    {
      "cell_type": "code",
      "source": [
        "%pip install pyspark py4j -qq"
      ],
      "metadata": {
        "id": "jL-rhw5ThzW9",
        "colab": {
          "base_uri": "https://localhost:8080/"
        },
        "outputId": "52847945-c16e-4846-a8ec-b216b1d0a23e"
      },
      "execution_count": null,
      "outputs": [
        {
          "output_type": "stream",
          "name": "stdout",
          "text": [
            "\u001b[2K     \u001b[90m━━━━━━━━━━━━━━━━━━━━━━━━━━━━━━━━━━━━━━━\u001b[0m \u001b[32m316.9/316.9 MB\u001b[0m \u001b[31m3.1 MB/s\u001b[0m eta \u001b[36m0:00:00\u001b[0m\n",
            "\u001b[?25h  Preparing metadata (setup.py) ... \u001b[?25l\u001b[?25hdone\n",
            "  Building wheel for pyspark (setup.py) ... \u001b[?25l\u001b[?25hdone\n"
          ]
        }
      ]
    },
    {
      "cell_type": "code",
      "source": [
        "from pyspark.sql import SparkSession\n",
        "\n",
        "spark = SparkSession.builder.appName('PySpark_for_DataScience').getOrCreate()"
      ],
      "metadata": {
        "id": "rp_NHN8fjYaS"
      },
      "execution_count": null,
      "outputs": []
    },
    {
      "cell_type": "markdown",
      "source": [
        "## Data Import"
      ],
      "metadata": {
        "id": "tYHDgSYutD6A"
      }
    },
    {
      "cell_type": "code",
      "source": [
        "df = spark.read.csv(\n",
        "    '/content/drive/My Drive/Datasets/PysparkOnColab/spotify_weekly_chart.csv',\n",
        "    sep = ',',\n",
        "    header = True,\n",
        "    )\n",
        "\n",
        "df.printSchema()"
      ],
      "metadata": {
        "colab": {
          "base_uri": "https://localhost:8080/"
        },
        "id": "-g_q-6fHh8-J",
        "outputId": "60ae784a-7084-4b1e-f44f-f406d41bf603"
      },
      "execution_count": null,
      "outputs": [
        {
          "output_type": "stream",
          "name": "stdout",
          "text": [
            "root\n",
            " |-- Pos: string (nullable = true)\n",
            " |-- P+: string (nullable = true)\n",
            " |-- Artist: string (nullable = true)\n",
            " |-- Title: string (nullable = true)\n",
            " |-- Wks: string (nullable = true)\n",
            " |-- Pk: string (nullable = true)\n",
            " |-- (x?): string (nullable = true)\n",
            " |-- Streams: string (nullable = true)\n",
            " |-- Streams+: string (nullable = true)\n",
            " |-- Total: string (nullable = true)\n",
            "\n"
          ]
        }
      ]
    },
    {
      "cell_type": "code",
      "source": [
        "df.show()"
      ],
      "metadata": {
        "colab": {
          "base_uri": "https://localhost:8080/"
        },
        "id": "0mS6nijFje_d",
        "outputId": "d7e0e300-6707-4f5d-89aa-49d9ae8c49de"
      },
      "execution_count": null,
      "outputs": [
        {
          "output_type": "stream",
          "name": "stdout",
          "text": [
            "+---+---+---------------+--------------------+---+---+----+--------+----------+----------+\n",
            "|Pos| P+|         Artist|               Title|Wks| Pk|(x?)| Streams|  Streams+|     Total|\n",
            "+---+---+---------------+--------------------+---+---+----+--------+----------+----------+\n",
            "|  1|  =|   Miley Cyrus |             Flowers|  7|  1|   7|56744018|-5019054.0| 585390148|\n",
            "|  2|NEW|       KAROL G |                 TQG|  1|  2|   1|53284451|      NULL|  53284451|\n",
            "|  3|NEW|    The Weeknd |         Die For You|  1|  3|   1|46213370|      NULL|  46213370|\n",
            "|  4| -2|           SZA |           Kill Bill| 12|  1|   2|45630547| -918530.0| 556085332|\n",
            "|  5| -2|PinkPantheress |  Boy's a liar Pt. 2|  4|  3|   1|39475419|  303113.0| 123300074|\n",
            "|  6| -2|      Bizarrap |Shakira: Bzrp Mus...|  8|  2|   3|33570215|-1211086.0| 368811104|\n",
            "|  7| -1|  Metro Boomin |            Creepin'| 13|  2|   1|29727331|  497184.0| 409991076|\n",
            "|  8| -3|  Harry Styles |           As It Was| 48|  1|  11|29028467| -504076.0|1953960590|\n",
            "|  9| -1|        Yandel |          Yandel 150|  8|  8|NULL|26978839| 2005666.0| 181143781|\n",
            "| 10| -3|     Sam Smith |              Unholy| 23|  1|   7|26377166|-1140781.0| 889575567|\n",
            "| 11| -2| Manuel Turizo |          La Bachata| 35|  4|NULL|23545889|  359842.0| 869643225|\n",
            "| 12| -1|          Rema |           Calm Down| 27|  9|NULL|23128373|  925159.0| 473146853|\n",
            "| 13|+24|       KAROL G |       X SI VOLVEMOS|  4| 13|NULL|23066614| 8062485.0|  68299618|\n",
            "| 14| -2|    The Weeknd |         Die For You| 59| 12|NULL|22988828| 1333396.0| 687729855|\n",
            "| 15| -5|  David Guetta |     I'm Good (Blue)| 27|  2|   4|22625095| -269818.0| 743528980|\n",
            "| 16| -3|          RAYE |           Escapism.| 14| 10|NULL|20779383| -694464.0| 271404630|\n",
            "| 17|  =|         Ozuna |             Hey Mor| 20| 14|NULL|20380460| 1397344.0| 368505520|\n",
            "| 18| -4|  Taylor Swift |                Anti| 19|  1|   3|20034882| -890694.0| 619942698|\n",
            "| 19| -3|          d4vd |        Here With Me| 18| 14|NULL|19920918| -270896.0| 289630594|\n",
            "| 20| -5|      NewJeans |                 OMG|  9| 14|NULL|19851543| -568083.0| 162889086|\n",
            "+---+---+---------------+--------------------+---+---+----+--------+----------+----------+\n",
            "only showing top 20 rows\n",
            "\n"
          ]
        }
      ]
    },
    {
      "cell_type": "markdown",
      "source": [
        "## Updating schema"
      ],
      "metadata": {
        "id": "Osf1o0wNtM47"
      }
    },
    {
      "cell_type": "code",
      "source": [
        "from pyspark.sql.types import *\n",
        "\n",
        "data_schema = [\n",
        "    StructField('Pos',  IntegerType(), True),\n",
        "    StructField('P+', StringType(), True),\n",
        "    StructField('Artist', StringType(), True),\n",
        "    StructField('Title', StringType(), True),\n",
        "    StructField('Wks', IntegerType(), True),\n",
        "    StructField('Pk', IntegerType(), True),\n",
        "    StructField('(x?)', StringType(), True),\n",
        "    StructField('Streams', IntegerType(), True),\n",
        "    StructField('Streams+', DoubleType(), True),\n",
        "    StructField('Total', IntegerType(), True)\n",
        "]\n",
        "\n",
        "final_struct = StructType(fields= data_schema)"
      ],
      "metadata": {
        "id": "KJCXHUbkjfLr"
      },
      "execution_count": null,
      "outputs": []
    },
    {
      "cell_type": "code",
      "source": [
        "df = spark.read.csv(\n",
        "    '/content/drive/My Drive/Datasets/PysparkOnColab/spotify_weekly_chart.csv',\n",
        "    sep = ',',\n",
        "    header = True,\n",
        "    schema = final_struct\n",
        "    )\n",
        "\n",
        "df.printSchema()"
      ],
      "metadata": {
        "colab": {
          "base_uri": "https://localhost:8080/"
        },
        "id": "RLd-sEt0jfXM",
        "outputId": "9d47951d-8c1c-44e6-ea40-c2659cc32f25"
      },
      "execution_count": null,
      "outputs": [
        {
          "output_type": "stream",
          "name": "stdout",
          "text": [
            "root\n",
            " |-- Pos: integer (nullable = true)\n",
            " |-- P+: string (nullable = true)\n",
            " |-- Artist: string (nullable = true)\n",
            " |-- Title: string (nullable = true)\n",
            " |-- Wks: integer (nullable = true)\n",
            " |-- Pk: integer (nullable = true)\n",
            " |-- (x?): string (nullable = true)\n",
            " |-- Streams: integer (nullable = true)\n",
            " |-- Streams+: double (nullable = true)\n",
            " |-- Total: integer (nullable = true)\n",
            "\n"
          ]
        }
      ]
    },
    {
      "cell_type": "markdown",
      "source": [
        "## Exploring data"
      ],
      "metadata": {
        "id": "dgSgpk-xtVq2"
      }
    },
    {
      "cell_type": "code",
      "source": [
        "df.limit(5).toPandas()"
      ],
      "metadata": {
        "colab": {
          "base_uri": "https://localhost:8080/",
          "height": 206
        },
        "id": "lSilbCiijfhr",
        "outputId": "a0233e5b-366d-47fd-fb5c-22d19b19f307"
      },
      "execution_count": null,
      "outputs": [
        {
          "output_type": "execute_result",
          "data": {
            "text/plain": [
              "   Pos   P+           Artist               Title  Wks  Pk (x?)   Streams  \\\n",
              "0    1    =     Miley Cyrus              Flowers    7   1    7  56744018   \n",
              "1    2  NEW         KAROL G                  TQG    1   2    1  53284451   \n",
              "2    3  NEW      The Weeknd          Die For You    1   3    1  46213370   \n",
              "3    4   -2             SZA            Kill Bill   12   1    2  45630547   \n",
              "4    5   -2  PinkPantheress   Boy's a liar Pt. 2    4   3    1  39475419   \n",
              "\n",
              "    Streams+      Total  \n",
              "0 -5019054.0  585390148  \n",
              "1        NaN   53284451  \n",
              "2        NaN   46213370  \n",
              "3  -918530.0  556085332  \n",
              "4   303113.0  123300074  "
            ],
            "text/html": [
              "\n",
              "  <div id=\"df-700f0099-5064-4618-b92e-7679ca7d745a\" class=\"colab-df-container\">\n",
              "    <div>\n",
              "<style scoped>\n",
              "    .dataframe tbody tr th:only-of-type {\n",
              "        vertical-align: middle;\n",
              "    }\n",
              "\n",
              "    .dataframe tbody tr th {\n",
              "        vertical-align: top;\n",
              "    }\n",
              "\n",
              "    .dataframe thead th {\n",
              "        text-align: right;\n",
              "    }\n",
              "</style>\n",
              "<table border=\"1\" class=\"dataframe\">\n",
              "  <thead>\n",
              "    <tr style=\"text-align: right;\">\n",
              "      <th></th>\n",
              "      <th>Pos</th>\n",
              "      <th>P+</th>\n",
              "      <th>Artist</th>\n",
              "      <th>Title</th>\n",
              "      <th>Wks</th>\n",
              "      <th>Pk</th>\n",
              "      <th>(x?)</th>\n",
              "      <th>Streams</th>\n",
              "      <th>Streams+</th>\n",
              "      <th>Total</th>\n",
              "    </tr>\n",
              "  </thead>\n",
              "  <tbody>\n",
              "    <tr>\n",
              "      <th>0</th>\n",
              "      <td>1</td>\n",
              "      <td>=</td>\n",
              "      <td>Miley Cyrus</td>\n",
              "      <td>Flowers</td>\n",
              "      <td>7</td>\n",
              "      <td>1</td>\n",
              "      <td>7</td>\n",
              "      <td>56744018</td>\n",
              "      <td>-5019054.0</td>\n",
              "      <td>585390148</td>\n",
              "    </tr>\n",
              "    <tr>\n",
              "      <th>1</th>\n",
              "      <td>2</td>\n",
              "      <td>NEW</td>\n",
              "      <td>KAROL G</td>\n",
              "      <td>TQG</td>\n",
              "      <td>1</td>\n",
              "      <td>2</td>\n",
              "      <td>1</td>\n",
              "      <td>53284451</td>\n",
              "      <td>NaN</td>\n",
              "      <td>53284451</td>\n",
              "    </tr>\n",
              "    <tr>\n",
              "      <th>2</th>\n",
              "      <td>3</td>\n",
              "      <td>NEW</td>\n",
              "      <td>The Weeknd</td>\n",
              "      <td>Die For You</td>\n",
              "      <td>1</td>\n",
              "      <td>3</td>\n",
              "      <td>1</td>\n",
              "      <td>46213370</td>\n",
              "      <td>NaN</td>\n",
              "      <td>46213370</td>\n",
              "    </tr>\n",
              "    <tr>\n",
              "      <th>3</th>\n",
              "      <td>4</td>\n",
              "      <td>-2</td>\n",
              "      <td>SZA</td>\n",
              "      <td>Kill Bill</td>\n",
              "      <td>12</td>\n",
              "      <td>1</td>\n",
              "      <td>2</td>\n",
              "      <td>45630547</td>\n",
              "      <td>-918530.0</td>\n",
              "      <td>556085332</td>\n",
              "    </tr>\n",
              "    <tr>\n",
              "      <th>4</th>\n",
              "      <td>5</td>\n",
              "      <td>-2</td>\n",
              "      <td>PinkPantheress</td>\n",
              "      <td>Boy's a liar Pt. 2</td>\n",
              "      <td>4</td>\n",
              "      <td>3</td>\n",
              "      <td>1</td>\n",
              "      <td>39475419</td>\n",
              "      <td>303113.0</td>\n",
              "      <td>123300074</td>\n",
              "    </tr>\n",
              "  </tbody>\n",
              "</table>\n",
              "</div>\n",
              "    <div class=\"colab-df-buttons\">\n",
              "\n",
              "  <div class=\"colab-df-container\">\n",
              "    <button class=\"colab-df-convert\" onclick=\"convertToInteractive('df-700f0099-5064-4618-b92e-7679ca7d745a')\"\n",
              "            title=\"Convert this dataframe to an interactive table.\"\n",
              "            style=\"display:none;\">\n",
              "\n",
              "  <svg xmlns=\"http://www.w3.org/2000/svg\" height=\"24px\" viewBox=\"0 -960 960 960\">\n",
              "    <path d=\"M120-120v-720h720v720H120Zm60-500h600v-160H180v160Zm220 220h160v-160H400v160Zm0 220h160v-160H400v160ZM180-400h160v-160H180v160Zm440 0h160v-160H620v160ZM180-180h160v-160H180v160Zm440 0h160v-160H620v160Z\"/>\n",
              "  </svg>\n",
              "    </button>\n",
              "\n",
              "  <style>\n",
              "    .colab-df-container {\n",
              "      display:flex;\n",
              "      gap: 12px;\n",
              "    }\n",
              "\n",
              "    .colab-df-convert {\n",
              "      background-color: #E8F0FE;\n",
              "      border: none;\n",
              "      border-radius: 50%;\n",
              "      cursor: pointer;\n",
              "      display: none;\n",
              "      fill: #1967D2;\n",
              "      height: 32px;\n",
              "      padding: 0 0 0 0;\n",
              "      width: 32px;\n",
              "    }\n",
              "\n",
              "    .colab-df-convert:hover {\n",
              "      background-color: #E2EBFA;\n",
              "      box-shadow: 0px 1px 2px rgba(60, 64, 67, 0.3), 0px 1px 3px 1px rgba(60, 64, 67, 0.15);\n",
              "      fill: #174EA6;\n",
              "    }\n",
              "\n",
              "    .colab-df-buttons div {\n",
              "      margin-bottom: 4px;\n",
              "    }\n",
              "\n",
              "    [theme=dark] .colab-df-convert {\n",
              "      background-color: #3B4455;\n",
              "      fill: #D2E3FC;\n",
              "    }\n",
              "\n",
              "    [theme=dark] .colab-df-convert:hover {\n",
              "      background-color: #434B5C;\n",
              "      box-shadow: 0px 1px 3px 1px rgba(0, 0, 0, 0.15);\n",
              "      filter: drop-shadow(0px 1px 2px rgba(0, 0, 0, 0.3));\n",
              "      fill: #FFFFFF;\n",
              "    }\n",
              "  </style>\n",
              "\n",
              "    <script>\n",
              "      const buttonEl =\n",
              "        document.querySelector('#df-700f0099-5064-4618-b92e-7679ca7d745a button.colab-df-convert');\n",
              "      buttonEl.style.display =\n",
              "        google.colab.kernel.accessAllowed ? 'block' : 'none';\n",
              "\n",
              "      async function convertToInteractive(key) {\n",
              "        const element = document.querySelector('#df-700f0099-5064-4618-b92e-7679ca7d745a');\n",
              "        const dataTable =\n",
              "          await google.colab.kernel.invokeFunction('convertToInteractive',\n",
              "                                                    [key], {});\n",
              "        if (!dataTable) return;\n",
              "\n",
              "        const docLinkHtml = 'Like what you see? Visit the ' +\n",
              "          '<a target=\"_blank\" href=https://colab.research.google.com/notebooks/data_table.ipynb>data table notebook</a>'\n",
              "          + ' to learn more about interactive tables.';\n",
              "        element.innerHTML = '';\n",
              "        dataTable['output_type'] = 'display_data';\n",
              "        await google.colab.output.renderOutput(dataTable, element);\n",
              "        const docLink = document.createElement('div');\n",
              "        docLink.innerHTML = docLinkHtml;\n",
              "        element.appendChild(docLink);\n",
              "      }\n",
              "    </script>\n",
              "  </div>\n",
              "\n",
              "\n",
              "<div id=\"df-49fede99-d03a-469e-a3a0-b57cc142936e\">\n",
              "  <button class=\"colab-df-quickchart\" onclick=\"quickchart('df-49fede99-d03a-469e-a3a0-b57cc142936e')\"\n",
              "            title=\"Suggest charts.\"\n",
              "            style=\"display:none;\">\n",
              "\n",
              "<svg xmlns=\"http://www.w3.org/2000/svg\" height=\"24px\"viewBox=\"0 0 24 24\"\n",
              "     width=\"24px\">\n",
              "    <g>\n",
              "        <path d=\"M19 3H5c-1.1 0-2 .9-2 2v14c0 1.1.9 2 2 2h14c1.1 0 2-.9 2-2V5c0-1.1-.9-2-2-2zM9 17H7v-7h2v7zm4 0h-2V7h2v10zm4 0h-2v-4h2v4z\"/>\n",
              "    </g>\n",
              "</svg>\n",
              "  </button>\n",
              "\n",
              "<style>\n",
              "  .colab-df-quickchart {\n",
              "      --bg-color: #E8F0FE;\n",
              "      --fill-color: #1967D2;\n",
              "      --hover-bg-color: #E2EBFA;\n",
              "      --hover-fill-color: #174EA6;\n",
              "      --disabled-fill-color: #AAA;\n",
              "      --disabled-bg-color: #DDD;\n",
              "  }\n",
              "\n",
              "  [theme=dark] .colab-df-quickchart {\n",
              "      --bg-color: #3B4455;\n",
              "      --fill-color: #D2E3FC;\n",
              "      --hover-bg-color: #434B5C;\n",
              "      --hover-fill-color: #FFFFFF;\n",
              "      --disabled-bg-color: #3B4455;\n",
              "      --disabled-fill-color: #666;\n",
              "  }\n",
              "\n",
              "  .colab-df-quickchart {\n",
              "    background-color: var(--bg-color);\n",
              "    border: none;\n",
              "    border-radius: 50%;\n",
              "    cursor: pointer;\n",
              "    display: none;\n",
              "    fill: var(--fill-color);\n",
              "    height: 32px;\n",
              "    padding: 0;\n",
              "    width: 32px;\n",
              "  }\n",
              "\n",
              "  .colab-df-quickchart:hover {\n",
              "    background-color: var(--hover-bg-color);\n",
              "    box-shadow: 0 1px 2px rgba(60, 64, 67, 0.3), 0 1px 3px 1px rgba(60, 64, 67, 0.15);\n",
              "    fill: var(--button-hover-fill-color);\n",
              "  }\n",
              "\n",
              "  .colab-df-quickchart-complete:disabled,\n",
              "  .colab-df-quickchart-complete:disabled:hover {\n",
              "    background-color: var(--disabled-bg-color);\n",
              "    fill: var(--disabled-fill-color);\n",
              "    box-shadow: none;\n",
              "  }\n",
              "\n",
              "  .colab-df-spinner {\n",
              "    border: 2px solid var(--fill-color);\n",
              "    border-color: transparent;\n",
              "    border-bottom-color: var(--fill-color);\n",
              "    animation:\n",
              "      spin 1s steps(1) infinite;\n",
              "  }\n",
              "\n",
              "  @keyframes spin {\n",
              "    0% {\n",
              "      border-color: transparent;\n",
              "      border-bottom-color: var(--fill-color);\n",
              "      border-left-color: var(--fill-color);\n",
              "    }\n",
              "    20% {\n",
              "      border-color: transparent;\n",
              "      border-left-color: var(--fill-color);\n",
              "      border-top-color: var(--fill-color);\n",
              "    }\n",
              "    30% {\n",
              "      border-color: transparent;\n",
              "      border-left-color: var(--fill-color);\n",
              "      border-top-color: var(--fill-color);\n",
              "      border-right-color: var(--fill-color);\n",
              "    }\n",
              "    40% {\n",
              "      border-color: transparent;\n",
              "      border-right-color: var(--fill-color);\n",
              "      border-top-color: var(--fill-color);\n",
              "    }\n",
              "    60% {\n",
              "      border-color: transparent;\n",
              "      border-right-color: var(--fill-color);\n",
              "    }\n",
              "    80% {\n",
              "      border-color: transparent;\n",
              "      border-right-color: var(--fill-color);\n",
              "      border-bottom-color: var(--fill-color);\n",
              "    }\n",
              "    90% {\n",
              "      border-color: transparent;\n",
              "      border-bottom-color: var(--fill-color);\n",
              "    }\n",
              "  }\n",
              "</style>\n",
              "\n",
              "  <script>\n",
              "    async function quickchart(key) {\n",
              "      const quickchartButtonEl =\n",
              "        document.querySelector('#' + key + ' button');\n",
              "      quickchartButtonEl.disabled = true;  // To prevent multiple clicks.\n",
              "      quickchartButtonEl.classList.add('colab-df-spinner');\n",
              "      try {\n",
              "        const charts = await google.colab.kernel.invokeFunction(\n",
              "            'suggestCharts', [key], {});\n",
              "      } catch (error) {\n",
              "        console.error('Error during call to suggestCharts:', error);\n",
              "      }\n",
              "      quickchartButtonEl.classList.remove('colab-df-spinner');\n",
              "      quickchartButtonEl.classList.add('colab-df-quickchart-complete');\n",
              "    }\n",
              "    (() => {\n",
              "      let quickchartButtonEl =\n",
              "        document.querySelector('#df-49fede99-d03a-469e-a3a0-b57cc142936e button');\n",
              "      quickchartButtonEl.style.display =\n",
              "        google.colab.kernel.accessAllowed ? 'block' : 'none';\n",
              "    })();\n",
              "  </script>\n",
              "</div>\n",
              "    </div>\n",
              "  </div>\n"
            ]
          },
          "metadata": {},
          "execution_count": 7
        }
      ]
    },
    {
      "cell_type": "code",
      "source": [
        "df.count()"
      ],
      "metadata": {
        "colab": {
          "base_uri": "https://localhost:8080/"
        },
        "id": "Utog1kMujfsK",
        "outputId": "4f6edf7a-63e7-4ac7-8c4a-757ffa2ead27"
      },
      "execution_count": null,
      "outputs": [
        {
          "output_type": "execute_result",
          "data": {
            "text/plain": [
              "200"
            ]
          },
          "metadata": {},
          "execution_count": 8
        }
      ]
    },
    {
      "cell_type": "markdown",
      "source": [
        "## Column manipulation"
      ],
      "metadata": {
        "id": "moG5kxoatveL"
      }
    },
    {
      "cell_type": "code",
      "source": [
        "df = df.withColumnRenamed('Pos', 'Rank')\n",
        "\n",
        "df.show(5)"
      ],
      "metadata": {
        "colab": {
          "base_uri": "https://localhost:8080/"
        },
        "id": "-sVwg9Itoq-J",
        "outputId": "217e8e93-c9bf-40ee-b74e-9c3cf8355265"
      },
      "execution_count": null,
      "outputs": [
        {
          "output_type": "stream",
          "name": "stdout",
          "text": [
            "+----+---+---------------+------------------+---+---+----+--------+----------+---------+\n",
            "|Rank| P+|         Artist|             Title|Wks| Pk|(x?)| Streams|  Streams+|    Total|\n",
            "+----+---+---------------+------------------+---+---+----+--------+----------+---------+\n",
            "|   1|  =|   Miley Cyrus |           Flowers|  7|  1|   7|56744018|-5019054.0|585390148|\n",
            "|   2|NEW|       KAROL G |               TQG|  1|  2|   1|53284451|      NULL| 53284451|\n",
            "|   3|NEW|    The Weeknd |       Die For You|  1|  3|   1|46213370|      NULL| 46213370|\n",
            "|   4| -2|           SZA |         Kill Bill| 12|  1|   2|45630547| -918530.0|556085332|\n",
            "|   5| -2|PinkPantheress |Boy's a liar Pt. 2|  4|  3|   1|39475419|  303113.0|123300074|\n",
            "+----+---+---------------+------------------+---+---+----+--------+----------+---------+\n",
            "only showing top 5 rows\n",
            "\n"
          ]
        }
      ]
    },
    {
      "cell_type": "code",
      "source": [
        "df = df.drop('P+', 'Pk', '(x?)', 'Streams+')\n",
        "df.show()"
      ],
      "metadata": {
        "colab": {
          "base_uri": "https://localhost:8080/"
        },
        "id": "knyzTodio7KY",
        "outputId": "c86e7b66-b50d-41c5-f906-2632b66dfebe"
      },
      "execution_count": null,
      "outputs": [
        {
          "output_type": "stream",
          "name": "stdout",
          "text": [
            "+----+---------------+--------------------+---+--------+----------+\n",
            "|Rank|         Artist|               Title|Wks| Streams|     Total|\n",
            "+----+---------------+--------------------+---+--------+----------+\n",
            "|   1|   Miley Cyrus |             Flowers|  7|56744018| 585390148|\n",
            "|   2|       KAROL G |                 TQG|  1|53284451|  53284451|\n",
            "|   3|    The Weeknd |         Die For You|  1|46213370|  46213370|\n",
            "|   4|           SZA |           Kill Bill| 12|45630547| 556085332|\n",
            "|   5|PinkPantheress |  Boy's a liar Pt. 2|  4|39475419| 123300074|\n",
            "|   6|      Bizarrap |Shakira: Bzrp Mus...|  8|33570215| 368811104|\n",
            "|   7|  Metro Boomin |            Creepin'| 13|29727331| 409991076|\n",
            "|   8|  Harry Styles |           As It Was| 48|29028467|1953960590|\n",
            "|   9|        Yandel |          Yandel 150|  8|26978839| 181143781|\n",
            "|  10|     Sam Smith |              Unholy| 23|26377166| 889575567|\n",
            "|  11| Manuel Turizo |          La Bachata| 35|23545889| 869643225|\n",
            "|  12|          Rema |           Calm Down| 27|23128373| 473146853|\n",
            "|  13|       KAROL G |       X SI VOLVEMOS|  4|23066614|  68299618|\n",
            "|  14|    The Weeknd |         Die For You| 59|22988828| 687729855|\n",
            "|  15|  David Guetta |     I'm Good (Blue)| 27|22625095| 743528980|\n",
            "|  16|          RAYE |           Escapism.| 14|20779383| 271404630|\n",
            "|  17|         Ozuna |             Hey Mor| 20|20380460| 368505520|\n",
            "|  18|  Taylor Swift |                Anti| 19|20034882| 619942698|\n",
            "|  19|          d4vd |        Here With Me| 18|19920918| 289630594|\n",
            "|  20|      NewJeans |                 OMG|  9|19851543| 162889086|\n",
            "+----+---------------+--------------------+---+--------+----------+\n",
            "only showing top 20 rows\n",
            "\n"
          ]
        }
      ]
    },
    {
      "cell_type": "code",
      "source": [
        "#You can use .na for dealing with missing valuse. In our case, we are dropping all missing values rows.\n",
        "df = df.na.drop()\n",
        "\n",
        "## Or\n",
        "#data.na.replace(old_value, new_vallue)"
      ],
      "metadata": {
        "id": "hf6g7oavqBNo"
      },
      "execution_count": null,
      "outputs": []
    },
    {
      "cell_type": "code",
      "source": [
        "df.count()"
      ],
      "metadata": {
        "colab": {
          "base_uri": "https://localhost:8080/"
        },
        "id": "IF6xvoNWqFxH",
        "outputId": "d5a252c4-bce2-461f-ff6e-7e2b94e42c91"
      },
      "execution_count": null,
      "outputs": [
        {
          "output_type": "execute_result",
          "data": {
            "text/plain": [
              "192"
            ]
          },
          "metadata": {},
          "execution_count": 16
        }
      ]
    },
    {
      "cell_type": "markdown",
      "source": [
        "### EDA"
      ],
      "metadata": {
        "id": "kjIxFup5zBZI"
      }
    },
    {
      "cell_type": "code",
      "source": [
        "df.select(['Rank', 'Artist', 'Total']).show(5)"
      ],
      "metadata": {
        "id": "eTXoiyaFqGi7",
        "colab": {
          "base_uri": "https://localhost:8080/"
        },
        "outputId": "338022de-cc5d-4216-fdcb-6f250a081fab"
      },
      "execution_count": null,
      "outputs": [
        {
          "output_type": "stream",
          "name": "stdout",
          "text": [
            "+----+---------------+---------+\n",
            "|Rank|         Artist|    Total|\n",
            "+----+---------------+---------+\n",
            "|   1|   Miley Cyrus |585390148|\n",
            "|   2|       KAROL G | 53284451|\n",
            "|   3|    The Weeknd | 46213370|\n",
            "|   4|           SZA |556085332|\n",
            "|   5|PinkPantheress |123300074|\n",
            "+----+---------------+---------+\n",
            "only showing top 5 rows\n",
            "\n"
          ]
        }
      ]
    },
    {
      "cell_type": "code",
      "source": [
        "from pyspark.sql.functions import col,lit,when"
      ],
      "metadata": {
        "id": "khZ5knqtqGsL"
      },
      "execution_count": null,
      "outputs": []
    },
    {
      "cell_type": "code",
      "source": [
        "#filtering technique\n",
        "df.filter((col(\"total\") >= lit(\"600000000\")) & (col(\"total\") <= lit(\"700000000\"))).show(5)"
      ],
      "metadata": {
        "id": "32RlQoMLqG1p",
        "colab": {
          "base_uri": "https://localhost:8080/"
        },
        "outputId": "bf94a70b-659a-49a5-8ac6-09dc685a850b"
      },
      "execution_count": null,
      "outputs": [
        {
          "output_type": "stream",
          "name": "stdout",
          "text": [
            "+----+-------------+-------------------+---+--------+---------+\n",
            "|Rank|       Artist|              Title|Wks| Streams|    Total|\n",
            "+----+-------------+-------------------+---+--------+---------+\n",
            "|  14|  The Weeknd |        Die For You| 59|22988828|687729855|\n",
            "|  18|Taylor Swift |               Anti| 19|20034882|619942698|\n",
            "|  46| Chris Brown |Under The Influence| 32|14024690|604561746|\n",
            "|  67|  Steve Lacy |          Bad Habit| 34|12146050|616610588|\n",
            "|  92|     ROSALÍA |           DESPECHÁ| 31|10134064|604837151|\n",
            "+----+-------------+-------------------+---+--------+---------+\n",
            "only showing top 5 rows\n",
            "\n"
          ]
        }
      ]
    },
    {
      "cell_type": "code",
      "source": [
        "#another method\n",
        "df.filter((df.Total>='600000000') & (df.Total<='700000000')).show(5)"
      ],
      "metadata": {
        "id": "kH_3v1EGqG-K",
        "colab": {
          "base_uri": "https://localhost:8080/"
        },
        "outputId": "97f275e0-69fd-4e9f-a3dd-a4517d744706"
      },
      "execution_count": null,
      "outputs": [
        {
          "output_type": "stream",
          "name": "stdout",
          "text": [
            "+----+-------------+-------------------+---+--------+---------+\n",
            "|Rank|       Artist|              Title|Wks| Streams|    Total|\n",
            "+----+-------------+-------------------+---+--------+---------+\n",
            "|  14|  The Weeknd |        Die For You| 59|22988828|687729855|\n",
            "|  18|Taylor Swift |               Anti| 19|20034882|619942698|\n",
            "|  46| Chris Brown |Under The Influence| 32|14024690|604561746|\n",
            "|  67|  Steve Lacy |          Bad Habit| 34|12146050|616610588|\n",
            "|  92|     ROSALÍA |           DESPECHÁ| 31|10134064|604837151|\n",
            "+----+-------------+-------------------+---+--------+---------+\n",
            "only showing top 5 rows\n",
            "\n"
          ]
        }
      ]
    },
    {
      "cell_type": "code",
      "source": [
        "#Write if/else statement to create a categorical column using when function.\n",
        "df.select('Artist', 'Title',\n",
        "          when(df.Wks >= 35, 1).otherwise(0).alias('Wks_cat')\n",
        "          ).show(5)"
      ],
      "metadata": {
        "colab": {
          "base_uri": "https://localhost:8080/"
        },
        "id": "507fbOsCXHWQ",
        "outputId": "b6f7b3a9-1d27-4879-8312-b57f1dc05c50"
      },
      "execution_count": null,
      "outputs": [
        {
          "output_type": "stream",
          "name": "stdout",
          "text": [
            "+---------------+------------------+-------+\n",
            "|         Artist|             Title|Wks_cat|\n",
            "+---------------+------------------+-------+\n",
            "|   Miley Cyrus |           Flowers|      0|\n",
            "|       KAROL G |               TQG|      0|\n",
            "|    The Weeknd |       Die For You|      0|\n",
            "|           SZA |         Kill Bill|      0|\n",
            "|PinkPantheress |Boy's a liar Pt. 2|      0|\n",
            "+---------------+------------------+-------+\n",
            "only showing top 5 rows\n",
            "\n"
          ]
        }
      ]
    },
    {
      "cell_type": "code",
      "source": [
        "df.select(['Artist','Wks','Total'])\\\n",
        "        .groupBy('Artist')\\\n",
        "        .mean()\\\n",
        "        .show(5)"
      ],
      "metadata": {
        "colab": {
          "base_uri": "https://localhost:8080/"
        },
        "id": "SpyTqvP5wizg",
        "outputId": "9003902f-f9b1-491f-dfca-1cf5dee4ee40"
      },
      "execution_count": null,
      "outputs": [
        {
          "output_type": "stream",
          "name": "stdout",
          "text": [
            "+-----------------+--------+-------------+\n",
            "|           Artist|avg(Wks)|   avg(Total)|\n",
            "+-----------------+--------+-------------+\n",
            "|  Wisin & Yandel |    22.0| 1.99257556E8|\n",
            "|    Mae Stephens |     2.0|  1.5666397E7|\n",
            "|Marília Mendonça |     9.0| 1.10185321E8|\n",
            "|          Miguel |     7.0|1.025676165E8|\n",
            "|            TINI |     2.0|  1.9425426E7|\n",
            "+-----------------+--------+-------------+\n",
            "only showing top 5 rows\n",
            "\n"
          ]
        }
      ]
    },
    {
      "cell_type": "code",
      "source": [
        "vis_df = (\n",
        "    df.select([\"Artist\", \"Wks\", \"Total\"])\n",
        "    .groupBy(\"Artist\")\n",
        "    .mean()\n",
        "    .orderBy([\"avg(Total)\"], ascending=[False])\n",
        "    .toPandas()\n",
        ")\n",
        "\n",
        "vis_df.iloc[0:7].plot(\n",
        "    kind=\"bar\",\n",
        "    x=\"Artist\",\n",
        "    y=\"avg(Total)\",\n",
        "    figsize=(12, 6),\n",
        "    ylabel=\"Average Average Streams\",\n",
        ")"
      ],
      "metadata": {
        "colab": {
          "base_uri": "https://localhost:8080/",
          "height": 701
        },
        "id": "B4k2xG4owi9q",
        "outputId": "62e44e1c-228f-4048-ef6a-a50bfd1f6ccd"
      },
      "execution_count": null,
      "outputs": [
        {
          "output_type": "execute_result",
          "data": {
            "text/plain": [
              "<Axes: xlabel='Artist', ylabel='Average Average Streams'>"
            ]
          },
          "metadata": {},
          "execution_count": 23
        },
        {
          "output_type": "display_data",
          "data": {
            "text/plain": [
              "<Figure size 1200x600 with 1 Axes>"
            ],
            "image/png": "[encoded data removed]"
          },
          "metadata": {}
        }
      ]
    },
    {
      "cell_type": "code",
      "source": [
        "final_data = (\n",
        "    df.select([\"Artist\", \"Wks\", \"Total\"])\n",
        "    .groupBy(\"Artist\")\n",
        "    .mean()\n",
        "    .orderBy([\"avg(Total)\"], ascending=[False])\n",
        ")\n",
        "\n",
        "# CSV\n",
        "final_data.write.csv(\"dataset.csv\")"
      ],
      "metadata": {
        "id": "j46ybxMvwjHL"
      },
      "execution_count": null,
      "outputs": []
    },
    {
      "cell_type": "code",
      "source": [
        "final_data.count()"
      ],
      "metadata": {
        "colab": {
          "base_uri": "https://localhost:8080/"
        },
        "id": "n3WaXdnhj_Fo",
        "outputId": "1f5906dc-f3b9-48f0-920e-727c1baf6cd6"
      },
      "execution_count": null,
      "outputs": [
        {
          "output_type": "execute_result",
          "data": {
            "text/plain": [
              "125"
            ]
          },
          "metadata": {},
          "execution_count": 14
        }
      ]
    },
    {
      "cell_type": "markdown",
      "source": [
        "### Data pre processing"
      ],
      "metadata": {
        "id": "hPkMxT-CzwpQ"
      }
    },
    {
      "cell_type": "code",
      "source": [
        "from pyspark.ml.feature import (\n",
        "    VectorAssembler,\n",
        "    StringIndexer,\n",
        "    OneHotEncoder,\n",
        "    StandardScaler,\n",
        ")"
      ],
      "metadata": {
        "id": "NfQDElGnzJ3Z"
      },
      "execution_count": null,
      "outputs": []
    },
    {
      "cell_type": "code",
      "source": [
        "## Categorical Encoding\n",
        "indexer = StringIndexer(inputCol=\"Artist\", outputCol=\"Encode_Artist\").fit(\n",
        "    final_data\n",
        ")\n",
        "encoded_df = indexer.transform(final_data)"
      ],
      "metadata": {
        "id": "mo4m1Np9zKAr"
      },
      "execution_count": null,
      "outputs": []
    },
    {
      "cell_type": "code",
      "source": [
        "encoded_df.show()"
      ],
      "metadata": {
        "colab": {
          "base_uri": "https://localhost:8080/"
        },
        "id": "M8mrUAahzKI_",
        "outputId": "744c06f0-2beb-4747-aefe-45ed05e2d57d"
      },
      "execution_count": null,
      "outputs": [
        {
          "output_type": "stream",
          "name": "stdout",
          "text": [
            "+------------------+--------+--------------------+-------------+\n",
            "|            Artist|avg(Wks)|          avg(Total)|Encode_Artist|\n",
            "+------------------+--------+--------------------+-------------+\n",
            "|    Billie Eilish |   254.0|       2.098789064E9|          8.0|\n",
            "|     James Arthur |   290.0|       1.983256195E9|         42.0|\n",
            "|     Harry Styles |    87.0|1.5457005193333333E9|         34.0|\n",
            "|The Neighbourhood |   156.0|       1.440976493E9|        108.0|\n",
            "|       Elton John |    81.0|       1.388794442E9|         26.0|\n",
            "|       Ed Sheeran |    77.0|       1.134167144E9|         24.0|\n",
            "|        Tom Odell |    99.0|       1.089197962E9|        113.0|\n",
            "|       Conan Gray |   136.0|       1.085427136E9|         19.0|\n",
            "|        Vance Joy |   238.0|       1.003744076E9|        116.0|\n",
            "|         J Balvin |   106.0|        9.17144342E8|         39.0|\n",
            "|    Justin Bieber |    76.0|         9.0641152E8|         45.0|\n",
            "|      OneRepublic |   144.0|       8.930579985E8|         79.0|\n",
            "|        Bad Bunny |    43.0| 8.910884568333334E8|          5.0|\n",
            "|        Sam Smith |    23.0|        8.89575567E8|         97.0|\n",
            "|    Manuel Turizo |    35.0|        8.69643225E8|         65.0|\n",
            "|          J. Cole |   167.0|        7.83103294E8|         40.0|\n",
            "|             Joji |    38.0|        7.75556066E8|         43.0|\n",
            "|          Ruth B. |    81.0|        7.59204529E8|         93.0|\n",
            "|     David Guetta |    27.0|         7.4352898E8|         22.0|\n",
            "|         Bizarrap |    21.0|       7.120917725E8|          9.0|\n",
            "+------------------+--------+--------------------+-------------+\n",
            "only showing top 20 rows\n",
            "\n"
          ]
        }
      ]
    },
    {
      "cell_type": "code",
      "source": [
        "## Assembling Features\n",
        "assemble = VectorAssembler(\n",
        "    inputCols=[\"Encode_Artist\", \"avg(Wks)\", \"avg(Total)\"],\n",
        "    outputCol=\"features\",\n",
        ")\n",
        "\n",
        "assembled_data = assemble.transform(encoded_df)"
      ],
      "metadata": {
        "id": "FzAUXY9hzKRJ"
      },
      "execution_count": null,
      "outputs": []
    },
    {
      "cell_type": "code",
      "source": [
        "assembled_data.show()"
      ],
      "metadata": {
        "id": "l6ggyg0AwjQG",
        "colab": {
          "base_uri": "https://localhost:8080/"
        },
        "outputId": "12a97054-568b-45ba-93e4-0bf9b22406ab"
      },
      "execution_count": null,
      "outputs": [
        {
          "output_type": "stream",
          "name": "stdout",
          "text": [
            "+------------------+--------+--------------------+-------------+--------------------+\n",
            "|            Artist|avg(Wks)|          avg(Total)|Encode_Artist|            features|\n",
            "+------------------+--------+--------------------+-------------+--------------------+\n",
            "|    Billie Eilish |   254.0|       2.098789064E9|          8.0|[8.0,254.0,2.0987...|\n",
            "|     James Arthur |   290.0|       1.983256195E9|         42.0|[42.0,290.0,1.983...|\n",
            "|     Harry Styles |    87.0|1.5457005193333333E9|         34.0|[34.0,87.0,1.5457...|\n",
            "|The Neighbourhood |   156.0|       1.440976493E9|        108.0|[108.0,156.0,1.44...|\n",
            "|       Elton John |    81.0|       1.388794442E9|         26.0|[26.0,81.0,1.3887...|\n",
            "|       Ed Sheeran |    77.0|       1.134167144E9|         24.0|[24.0,77.0,1.1341...|\n",
            "|        Tom Odell |    99.0|       1.089197962E9|        113.0|[113.0,99.0,1.089...|\n",
            "|       Conan Gray |   136.0|       1.085427136E9|         19.0|[19.0,136.0,1.085...|\n",
            "|        Vance Joy |   238.0|       1.003744076E9|        116.0|[116.0,238.0,1.00...|\n",
            "|         J Balvin |   106.0|        9.17144342E8|         39.0|[39.0,106.0,9.171...|\n",
            "|    Justin Bieber |    76.0|         9.0641152E8|         45.0|[45.0,76.0,9.0641...|\n",
            "|      OneRepublic |   144.0|       8.930579985E8|         79.0|[79.0,144.0,8.930...|\n",
            "|        Bad Bunny |    43.0| 8.910884568333334E8|          5.0|[5.0,43.0,8.91088...|\n",
            "|        Sam Smith |    23.0|        8.89575567E8|         97.0|[97.0,23.0,8.8957...|\n",
            "|    Manuel Turizo |    35.0|        8.69643225E8|         65.0|[65.0,35.0,8.6964...|\n",
            "|          J. Cole |   167.0|        7.83103294E8|         40.0|[40.0,167.0,7.831...|\n",
            "|             Joji |    38.0|        7.75556066E8|         43.0|[43.0,38.0,7.7555...|\n",
            "|          Ruth B. |    81.0|        7.59204529E8|         93.0|[93.0,81.0,7.5920...|\n",
            "|     David Guetta |    27.0|         7.4352898E8|         22.0|[22.0,27.0,7.4352...|\n",
            "|         Bizarrap |    21.0|       7.120917725E8|          9.0|[9.0,21.0,7.12091...|\n",
            "+------------------+--------+--------------------+-------------+--------------------+\n",
            "only showing top 20 rows\n",
            "\n"
          ]
        }
      ]
    },
    {
      "cell_type": "code",
      "source": [
        "assembled_data.select(assembled_data.features).show()"
      ],
      "metadata": {
        "colab": {
          "base_uri": "https://localhost:8080/"
        },
        "id": "GNC3et2dlZt0",
        "outputId": "a8466fa1-3927-4177-c3a3-31ef120ff6bb"
      },
      "execution_count": null,
      "outputs": [
        {
          "output_type": "stream",
          "name": "stdout",
          "text": [
            "+--------------------+\n",
            "|            features|\n",
            "+--------------------+\n",
            "|[8.0,254.0,2.0987...|\n",
            "|[42.0,290.0,1.983...|\n",
            "|[34.0,87.0,1.5457...|\n",
            "|[108.0,156.0,1.44...|\n",
            "|[26.0,81.0,1.3887...|\n",
            "|[24.0,77.0,1.1341...|\n",
            "|[113.0,99.0,1.089...|\n",
            "|[19.0,136.0,1.085...|\n",
            "|[116.0,238.0,1.00...|\n",
            "|[39.0,106.0,9.171...|\n",
            "|[45.0,76.0,9.0641...|\n",
            "|[79.0,144.0,8.930...|\n",
            "|[5.0,43.0,8.91088...|\n",
            "|[97.0,23.0,8.8957...|\n",
            "|[65.0,35.0,8.6964...|\n",
            "|[40.0,167.0,7.831...|\n",
            "|[43.0,38.0,7.7555...|\n",
            "|[93.0,81.0,7.5920...|\n",
            "|[22.0,27.0,7.4352...|\n",
            "|[9.0,21.0,7.12091...|\n",
            "+--------------------+\n",
            "only showing top 20 rows\n",
            "\n"
          ]
        }
      ]
    },
    {
      "cell_type": "code",
      "source": [
        "# Standard Scaling\n",
        "scale = StandardScaler(inputCol = \"features\", outputCol=\"Standardize\")\n",
        "data_scale = scale.fit(assembled_data)\n",
        "data_scale_output = data_scale.transform(assembled_data)\n",
        "data_scale_output.show(5)"
      ],
      "metadata": {
        "colab": {
          "base_uri": "https://localhost:8080/"
        },
        "id": "ZDrDNqn1l4_Y",
        "outputId": "dc630c4b-00d0-4a8d-b794-44e50a97e031"
      },
      "execution_count": null,
      "outputs": [
        {
          "output_type": "stream",
          "name": "stdout",
          "text": [
            "+------------------+--------+--------------------+-------------+--------------------+--------------------+\n",
            "|            Artist|avg(Wks)|          avg(Total)|Encode_Artist|            features|         Standardize|\n",
            "+------------------+--------+--------------------+-------------+--------------------+--------------------+\n",
            "|    Billie Eilish |   254.0|       2.098789064E9|          8.0|[8.0,254.0,2.0987...|[0.22082097898955...|\n",
            "|     James Arthur |   290.0|       1.983256195E9|         42.0|[42.0,290.0,1.983...|[1.15931013969515...|\n",
            "|     Harry Styles |    87.0|1.5457005193333333E9|         34.0|[34.0,87.0,1.5457...|[0.93848916070560...|\n",
            "|The Neighbourhood |   156.0|       1.440976493E9|        108.0|[108.0,156.0,1.44...|[2.98108321635897...|\n",
            "|       Elton John |    81.0|       1.388794442E9|         26.0|[26.0,81.0,1.3887...|[0.71766818171604...|\n",
            "+------------------+--------+--------------------+-------------+--------------------+--------------------+\n",
            "only showing top 5 rows\n",
            "\n"
          ]
        }
      ]
    },
    {
      "cell_type": "markdown",
      "source": [
        "# Kmean Elbow Method\n",
        "The elbow method is a graphical representation of finding the optimal ‘K’ in a K-means clustering.In the Elbow method, we are actually varying the number of clusters (K) from 1 – 10. For each value of K, we are calculating WCSS (Within-Cluster Sum of Square). WCSS is the sum of the squared distance between each point and the centroid in a cluster. When we plot the WCSS with the K value, the plot looks like an Elbow. As the number of clusters increases, the WCSS value will start to decrease. WCSS value is largest when K = 1. When we analyze the graph, we can see that the graph will rapidly change at a point and thus creating an elbow shape. From this point, the graph moves almost parallel to the X-axis. The K value corresponding to this point is the optimal value of K or an optimal number of clusters."
      ],
      "metadata": {
        "id": "vq87hDtZo4rG"
      }
    },
    {
      "cell_type": "code",
      "source": [
        "from pyspark.ml.clustering import KMeans\n",
        "from pyspark.ml.evaluation import ClusteringEvaluator\n",
        "import numpy as np\n",
        "\n",
        "cost = np.zeros(10)\n",
        "\n",
        "evaluator = ClusteringEvaluator(predictionCol=\"prediction\", featuresCol=\"Standardize\", metricName=\"silhouette\", distanceMeasure=\"squaredEuclidean\")\n",
        "\n",
        "for i in range(2,10):\n",
        "  KMeans_algo = KMeans(featuresCol=\"Standardize\", k=i)\n",
        "  KMeans_fit = KMeans_algo.fit(data_scale_output)\n",
        "  outout = KMeans_fit.transform(data_scale_output)\n",
        "  cost[i] = KMeans_fit.summary.trainingCost\n",
        "  print(cost[i])"
      ],
      "metadata": {
        "id": "MCraaCuAmmqC",
        "colab": {
          "base_uri": "https://localhost:8080/"
        },
        "outputId": "499de19d-c889-48fe-c708-bc016ea5333e"
      },
      "execution_count": null,
      "outputs": [
        {
          "output_type": "stream",
          "name": "stdout",
          "text": [
            "221.88781506611326\n",
            "140.53755368489877\n",
            "107.6652251391477\n",
            "90.82424440056546\n",
            "71.3510928138665\n",
            "58.62274336658289\n",
            "57.44300440344592\n",
            "44.11560014164921\n"
          ]
        }
      ]
    },
    {
      "cell_type": "code",
      "source": [
        "import pandas as pd\n",
        "import pylab as pl\n",
        "df_cost = pd.DataFrame(cost[2:])\n",
        "df_cost.columns = [\"cost\"]\n",
        "new_col = range(2,10)\n",
        "df_cost.insert(0, 'cluster', new_col)\n",
        "pl.plot(df_cost.cluster, df_cost.cost)\n",
        "pl.xlabel('Number of Clusters')\n",
        "pl.ylabel('Score')\n",
        "pl.title('Elbow Curve')\n",
        "pl.show()"
      ],
      "metadata": {
        "colab": {
          "base_uri": "https://localhost:8080/",
          "height": 472
        },
        "id": "Ih6gDdiGmmyS",
        "outputId": "dc83ff32-2b76-4f51-8ef9-da70ca5dc536"
      },
      "execution_count": null,
      "outputs": [
        {
          "output_type": "display_data",
          "data": {
            "text/plain": [
              "<Figure size 640x480 with 1 Axes>"
            ],
            "image/png": "[encoded data removed]"
          },
          "metadata": {}
        }
      ]
    },
    {
      "cell_type": "markdown",
      "source": [
        "# KMeans Clustering"
      ],
      "metadata": {
        "id": "KB4IT5rYH-_3"
      }
    },
    {
      "cell_type": "code",
      "source": [
        "from pyspark.ml.clustering import KMeans\n",
        "KMeans_algo = KMeans(featuresCol=\"Standardize\", k=4)\n",
        "KMeans_fit = KMeans_algo.fit(data_scale_output)"
      ],
      "metadata": {
        "id": "BSffAmbhmm6C"
      },
      "execution_count": null,
      "outputs": []
    },
    {
      "cell_type": "code",
      "source": [
        "preds = KMeans_fit.transform(data_scale_output)\n",
        "preds.show()"
      ],
      "metadata": {
        "colab": {
          "base_uri": "https://localhost:8080/"
        },
        "id": "uFQgQ309mnBg",
        "outputId": "0ecf98b1-e590-4484-c41b-490900f8fe9e"
      },
      "execution_count": null,
      "outputs": [
        {
          "output_type": "stream",
          "name": "stdout",
          "text": [
            "+------------------+--------+--------------------+-------------+--------------------+--------------------+----------+\n",
            "|            Artist|avg(Wks)|          avg(Total)|Encode_Artist|            features|         Standardize|prediction|\n",
            "+------------------+--------+--------------------+-------------+--------------------+--------------------+----------+\n",
            "|    Billie Eilish |   254.0|       2.098789064E9|          8.0|[8.0,254.0,2.0987...|[0.22082097898955...|         1|\n",
            "|     James Arthur |   290.0|       1.983256195E9|         42.0|[42.0,290.0,1.983...|[1.15931013969515...|         1|\n",
            "|     Harry Styles |    87.0|1.5457005193333333E9|         34.0|[34.0,87.0,1.5457...|[0.93848916070560...|         2|\n",
            "|The Neighbourhood |   156.0|       1.440976493E9|        108.0|[108.0,156.0,1.44...|[2.98108321635897...|         1|\n",
            "|       Elton John |    81.0|       1.388794442E9|         26.0|[26.0,81.0,1.3887...|[0.71766818171604...|         2|\n",
            "|       Ed Sheeran |    77.0|       1.134167144E9|         24.0|[24.0,77.0,1.1341...|[0.66246293696866...|         2|\n",
            "|        Tom Odell |    99.0|       1.089197962E9|        113.0|[113.0,99.0,1.089...|[3.11909632822744...|         2|\n",
            "|       Conan Gray |   136.0|       1.085427136E9|         19.0|[19.0,136.0,1.085...|[0.52444982510018...|         2|\n",
            "|        Vance Joy |   238.0|       1.003744076E9|        116.0|[116.0,238.0,1.00...|[3.20190419534852...|         1|\n",
            "|         J Balvin |   106.0|        9.17144342E8|         39.0|[39.0,106.0,9.171...|[1.07650227257407...|         2|\n",
            "|    Justin Bieber |    76.0|         9.0641152E8|         45.0|[45.0,76.0,9.0641...|[1.24211800681623...|         2|\n",
            "|      OneRepublic |   144.0|       8.930579985E8|         79.0|[79.0,144.0,8.930...|[2.18060716752183...|         2|\n",
            "|        Bad Bunny |    43.0| 8.910884568333334E8|          5.0|[5.0,43.0,8.91088...|[0.13801311186847...|         2|\n",
            "|        Sam Smith |    23.0|        8.89575567E8|         97.0|[97.0,23.0,8.8957...|[2.67745437024833...|         3|\n",
            "|    Manuel Turizo |    35.0|        8.69643225E8|         65.0|[65.0,35.0,8.6964...|[1.79417045429012...|         2|\n",
            "|          J. Cole |   167.0|        7.83103294E8|         40.0|[40.0,167.0,7.831...|[1.10410489494776...|         2|\n",
            "|             Joji |    38.0|        7.75556066E8|         43.0|[43.0,38.0,7.7555...|[1.18691276206884...|         2|\n",
            "|          Ruth B. |    81.0|        7.59204529E8|         93.0|[93.0,81.0,7.5920...|[2.56704388075355...|         2|\n",
            "|     David Guetta |    27.0|         7.4352898E8|         22.0|[22.0,27.0,7.4352...|[0.60725769222127...|         2|\n",
            "|         Bizarrap |    21.0|       7.120917725E8|          9.0|[9.0,21.0,7.12091...|[0.24842360136324...|         2|\n",
            "+------------------+--------+--------------------+-------------+--------------------+--------------------+----------+\n",
            "only showing top 20 rows\n",
            "\n"
          ]
        }
      ]
    },
    {
      "cell_type": "markdown",
      "source": [
        "# Model Evaluation"
      ],
      "metadata": {
        "id": "PUV6NDGkIHp4"
      }
    },
    {
      "cell_type": "code",
      "source": [
        "import matplotlib.pyplot as plt\n",
        "import seaborn as sns\n",
        "\n",
        "df_viz = preds.select('Artist', 'avg(Wks)','avg(Total)','prediction').toPandas()\n",
        "avg_df = df_viz.groupby(['prediction'], as_index=False).mean()\n",
        "\n",
        "list1 = ['avg(Wks)','avg(Total)']\n",
        "\n",
        "for i in list1:\n",
        "    sns.barplot(x='prediction',y=str(i),data=avg_df)\n",
        "    plt.show()"
      ],
      "metadata": {
        "colab": {
          "base_uri": "https://localhost:8080/",
          "height": 952
        },
        "id": "FP8Le0kqH029",
        "outputId": "41938341-417b-4e99-b872-79fea7a13a15"
      },
      "execution_count": null,
      "outputs": [
        {
          "output_type": "stream",
          "name": "stderr",
          "text": [
            "<ipython-input-25-0af6a0308802>:5: FutureWarning: The default value of numeric_only in DataFrameGroupBy.mean is deprecated. In a future version, numeric_only will default to False. Either specify numeric_only or select only columns which should be valid for the function.\n",
            "  avg_df = df_viz.groupby(['prediction'], as_index=False).mean()\n"
          ]
        },
        {
          "output_type": "display_data",
          "data": {
            "text/plain": [
              "<Figure size 640x480 with 1 Axes>"
            ],
            "image/png": "[encoded data removed]"
          },
          "metadata": {}
        },
        {
          "output_type": "display_data",
          "data": {
            "text/plain": [
              "<Figure size 640x480 with 1 Axes>"
            ],
            "image/png": "[encoded data removed]"
          },
          "metadata": {}
        }
      ]
    },
    {
      "cell_type": "code",
      "source": [],
      "metadata": {
        "id": "hQQ6gkhCIRrN"
      },
      "execution_count": null,
      "outputs": []
    }
  ]
}